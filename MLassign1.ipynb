{
 "cells": [
  {
   "cell_type": "code",
   "execution_count": 4,
   "id": "4725174d-abaa-4928-9079-c2940e47d816",
   "metadata": {},
   "outputs": [],
   "source": [
    "import pandas as pd\n"
   ]
  },
  {
   "cell_type": "code",
   "execution_count": 5,
   "id": "af5b84f4-865f-43b4-bbca-1581d7b49ee9",
   "metadata": {},
   "outputs": [],
   "source": [
    "data = pd.read_csv(r\"C:\\Users\\DELL\\Desktop\\Data.csv - Data.csv.csv\")\n"
   ]
  },
  {
   "cell_type": "code",
   "execution_count": 6,
   "id": "b4d7045d-8b29-4931-8bcb-ab4d03f977f0",
   "metadata": {},
   "outputs": [],
   "source": [
    "shape = data.shape"
   ]
  },
  {
   "cell_type": "code",
   "execution_count": 7,
   "id": "cdd0d014-0db2-48b5-b69c-2d0ccb50efa4",
   "metadata": {},
   "outputs": [
    {
     "name": "stdout",
     "output_type": "stream",
     "text": [
      "Shape of Data: (10, 4)\n"
     ]
    }
   ],
   "source": [
    "print(\"Shape of Data:\", shape)\n"
   ]
  },
  {
   "cell_type": "code",
   "execution_count": 8,
   "id": "af210a70-a6e2-4d2b-bc53-9e6db81669d9",
   "metadata": {},
   "outputs": [],
   "source": [
    "missing_values = data.isnull().sum()"
   ]
  },
  {
   "cell_type": "code",
   "execution_count": 9,
   "id": "e799e711-84d2-4d97-a8fa-7f3766790003",
   "metadata": {},
   "outputs": [
    {
     "name": "stdout",
     "output_type": "stream",
     "text": [
      "\n",
      "Missing Values in each column:\n",
      "Country      0\n",
      "Age          1\n",
      "Salary       1\n",
      "Purchased    0\n",
      "dtype: int64\n"
     ]
    }
   ],
   "source": [
    "print(\"\\nMissing Values in each column:\")\n",
    "print(missing_values)"
   ]
  },
  {
   "cell_type": "code",
   "execution_count": 10,
   "id": "f5c1d0a5-3fb0-48d1-a249-b623b11c319d",
   "metadata": {},
   "outputs": [],
   "source": [
    "data_types = data.dtypes"
   ]
  },
  {
   "cell_type": "code",
   "execution_count": 11,
   "id": "68d53dce-8755-45c7-af90-869c995433ca",
   "metadata": {},
   "outputs": [
    {
     "name": "stdout",
     "output_type": "stream",
     "text": [
      "\n",
      "Data Types of each column:\n",
      "Country       object\n",
      "Age          float64\n",
      "Salary       float64\n",
      "Purchased     object\n",
      "dtype: object\n"
     ]
    }
   ],
   "source": [
    "print(\"\\nData Types of each column:\")\n",
    "print(data_types)"
   ]
  },
  {
   "cell_type": "code",
   "execution_count": 12,
   "id": "b74bf674-7bed-4ff5-a0a0-0cad0865bdcd",
   "metadata": {},
   "outputs": [
    {
     "name": "stdout",
     "output_type": "stream",
     "text": [
      "\n",
      "Count of Zeros in each column:\n",
      "Country      0\n",
      "Age          0\n",
      "Salary       0\n",
      "Purchased    0\n",
      "dtype: int64\n"
     ]
    }
   ],
   "source": [
    "zero_counts = (data == 0).sum()\n",
    "print(\"\\nCount of Zeros in each column:\")\n",
    "print(zero_counts)"
   ]
  },
  {
   "cell_type": "code",
   "execution_count": 13,
   "id": "038f7c54-093d-4be9-beca-18f93a9de28d",
   "metadata": {},
   "outputs": [
    {
     "name": "stdout",
     "output_type": "stream",
     "text": [
      "\n",
      "Selected Data (Salary column):\n",
      "0    72000.0\n",
      "1    48000.0\n",
      "2    54000.0\n",
      "3    61000.0\n",
      "4        NaN\n",
      "5    58000.0\n",
      "6    52000.0\n",
      "7    79000.0\n",
      "8    83000.0\n",
      "9    67000.0\n",
      "Name: Salary, dtype: float64\n"
     ]
    }
   ],
   "source": [
    "selected_data = data['Salary']\n",
    "print(\"\\nSelected Data (Salary column):\")\n",
    "print(selected_data)"
   ]
  },
  {
   "cell_type": "code",
   "execution_count": 14,
   "id": "035068e7-5533-4ab4-84d6-53ae520156c5",
   "metadata": {},
   "outputs": [
    {
     "name": "stdout",
     "output_type": "stream",
     "text": [
      "\n",
      "Data sorted by Salary:\n",
      "   Country   Age   Salary Purchased\n",
      "1    Spain  27.0  48000.0       Yes\n",
      "6    Spain   NaN  52000.0        No\n",
      "2  Germany  30.0  54000.0        No\n",
      "5   France  35.0  58000.0       Yes\n",
      "3    Spain  38.0  61000.0        No\n",
      "9   France  37.0  67000.0       Yes\n",
      "0   France  44.0  72000.0        No\n",
      "7   France  48.0  79000.0       Yes\n",
      "8  Germany  50.0  83000.0        No\n",
      "4  Germany  40.0      NaN       Yes\n"
     ]
    }
   ],
   "source": [
    "sorted_data = data.sort_values(by='Salary')\n",
    "print(\"\\nData sorted by Salary:\")\n",
    "print(sorted_data)\n"
   ]
  },
  {
   "cell_type": "code",
   "execution_count": 15,
   "id": "14b5a747-434f-449a-bb6f-bb551c2dd9da",
   "metadata": {},
   "outputs": [
    {
     "name": "stdout",
     "output_type": "stream",
     "text": [
      "\n",
      "Description of Data:\n",
      "             Age        Salary\n",
      "count   9.000000      9.000000\n",
      "mean   38.777778  63777.777778\n",
      "std     7.693793  12265.579662\n",
      "min    27.000000  48000.000000\n",
      "25%    35.000000  54000.000000\n",
      "50%    38.000000  61000.000000\n",
      "75%    44.000000  72000.000000\n",
      "max    50.000000  83000.000000\n"
     ]
    }
   ],
   "source": [
    "description = data.describe()\n",
    "print(\"\\nDescription of Data:\")\n",
    "print(description)"
   ]
  },
  {
   "cell_type": "code",
   "execution_count": 16,
   "id": "a449de69-9696-4d47-9be2-1c49837f9b63",
   "metadata": {},
   "outputs": [
    {
     "name": "stdout",
     "output_type": "stream",
     "text": [
      "\n",
      "Data Types of each column (rechecked):\n",
      "Country       object\n",
      "Age          float64\n",
      "Salary       float64\n",
      "Purchased     object\n",
      "dtype: object\n"
     ]
    }
   ],
   "source": [
    "print(\"\\nData Types of each column (rechecked):\")\n",
    "print(data.dtypes)"
   ]
  },
  {
   "cell_type": "code",
   "execution_count": 17,
   "id": "7e4ff867-6654-4273-9b2e-b0a40531c4a8",
   "metadata": {},
   "outputs": [
    {
     "name": "stdout",
     "output_type": "stream",
     "text": [
      "\n",
      "Unique Values in each column:\n",
      "Country      3\n",
      "Age          9\n",
      "Salary       9\n",
      "Purchased    2\n",
      "dtype: int64\n"
     ]
    }
   ],
   "source": [
    "unique_counts = data.nunique()\n",
    "print(\"\\nUnique Values in each column:\")\n",
    "print(unique_counts)"
   ]
  },
  {
   "cell_type": "code",
   "execution_count": 18,
   "id": "1e6e95a9-dbab-4bfd-90c6-1255528b1bf4",
   "metadata": {},
   "outputs": [
    {
     "name": "stdout",
     "output_type": "stream",
     "text": [
      "\n",
      "Data Types after converting 'Age' to string:\n",
      "Country       object\n",
      "Age           object\n",
      "Salary       float64\n",
      "Purchased     object\n",
      "dtype: object\n"
     ]
    }
   ],
   "source": [
    "data['Age'] = data['Age'].astype(str)\n",
    "print(\"\\nData Types after converting 'Age' to string:\")\n",
    "print(data.dtypes)"
   ]
  },
  {
   "cell_type": "code",
   "execution_count": null,
   "id": "20be516e-d6fd-4ed6-8536-f2aa12e90afc",
   "metadata": {},
   "outputs": [],
   "source": []
  }
 ],
 "metadata": {
  "kernelspec": {
   "display_name": "Python 3 (ipykernel)",
   "language": "python",
   "name": "python3"
  },
  "language_info": {
   "codemirror_mode": {
    "name": "ipython",
    "version": 3
   },
   "file_extension": ".py",
   "mimetype": "text/x-python",
   "name": "python",
   "nbconvert_exporter": "python",
   "pygments_lexer": "ipython3",
   "version": "3.11.7"
  }
 },
 "nbformat": 4,
 "nbformat_minor": 5
}
